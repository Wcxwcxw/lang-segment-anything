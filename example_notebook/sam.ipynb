{
 "cells": [
  {
   "cell_type": "code",
   "execution_count": 1,
   "outputs": [],
   "source": [
    "import warnings\n",
    "\n",
    "import torch\n",
    "\n",
    "warnings.filterwarnings(\"ignore\")\n",
    "import numpy as np\n",
    "import matplotlib.pyplot as plt\n",
    "import requests\n",
    "from PIL import Image\n",
    "from io import BytesIO\n",
    "from lang_sam import LangSAM\n",
    "import os\n",
    "import re"
   ],
   "metadata": {
    "collapsed": false,
    "ExecuteTime": {
     "end_time": "2023-11-16T01:54:26.961182500Z",
     "start_time": "2023-11-16T01:54:24.102513200Z"
    }
   }
  },
  {
   "cell_type": "code",
   "execution_count": 2,
   "outputs": [],
   "source": [
    "def split(prompt):\n",
    "    name = ''\n",
    "    str = re.split('[, .]', prompt)\n",
    "    for i in range(len(str)):\n",
    "        if i!=len(str)-1 and str[i]!='':\n",
    "            name +=str[i]+'_'\n",
    "        else:\n",
    "            name +=str[i]\n",
    "    return name\n",
    "\n",
    "def download_image(url):\n",
    "    response = requests.get(url)\n",
    "    response.raise_for_status()\n",
    "    return Image.open(BytesIO(response.content)).convert(\"RGB\")\n",
    "\n",
    "def save_mask(mask_np, filename):\n",
    "    mask_image = Image.fromarray((mask_np * 255).astype(np.uint8))\n",
    "    mask_image.save(filename)\n",
    "\n",
    "def display_image_with_masks(image, masks):\n",
    "    num_masks = len(masks)\n",
    "\n",
    "    fig, axes = plt.subplots(1, num_masks + 1, figsize=(15, 5))\n",
    "    axes[0].imshow(image)\n",
    "    axes[0].set_title(\"Original Image\")\n",
    "    axes[0].axis('on')\n",
    "\n",
    "    for i, mask_np in enumerate(masks):\n",
    "        # print(mask_np)\n",
    "        axes[i+1].imshow(mask_np, cmap='gray')\n",
    "        axes[i+1].set_title(f\"Mask {i+1}\")\n",
    "        axes[i+1].axis('off')\n",
    "\n",
    "    plt.tight_layout()\n",
    "    plt.show()\n",
    "\n",
    "def display_image_with_boxes(image, boxes, logits):\n",
    "    fig, ax = plt.subplots()\n",
    "    ax.imshow(image)\n",
    "    ax.set_title(\"Image with Bounding Boxes\")\n",
    "    ax.axis('off')\n",
    "    for box, logit in zip(boxes, logits):\n",
    "        x_min, y_min, x_max, y_max = box\n",
    "        confidence_score = round(logit.item(), 2)  # Convert logit to a scalar before rounding\n",
    "        box_width = x_max - x_min\n",
    "        box_height = y_max - y_min\n",
    "\n",
    "        # Draw bounding box\n",
    "        rect = plt.Rectangle((x_min, y_min), box_width, box_height, fill=False, edgecolor='red', linewidth=2)\n",
    "        ax.add_patch(rect)\n",
    "\n",
    "        # Add confidence score as text\n",
    "        ax.text(x_min, y_min, f\"Confidence: {confidence_score}\", fontsize=8, color='red', verticalalignment='top')\n",
    "    plt.show()\n",
    "\n",
    "def print_bounding_boxes(boxes):\n",
    "    print(\"Bounding Boxes:\")\n",
    "    for i, box in enumerate(boxes):\n",
    "        print(f\"Box {i+1}: {box}\")\n",
    "\n",
    "def print_detected_phrases(phrases):\n",
    "    print(\"\\nDetected Phrases:\")\n",
    "    for i, phrase in enumerate(phrases):\n",
    "        print(f\"Phrase {i+1}: {phrase}\")\n",
    "\n",
    "def print_logits(logits):\n",
    "    print(\"\\nConfidence:\")\n",
    "    for i, logit in enumerate(logits):\n",
    "        print(f\"Logit {i+1}: {logit}\")\n",
    "\n",
    "def show_mask(mask, ax, random_color=False):\n",
    "    for i, mask_i in enumerate(mask):\n",
    "        if random_color:\n",
    "            color = np.concatenate([np.random.random(3), np.array([0.6])], axis=0)\n",
    "        else:\n",
    "            color = np.array([30/255, 144/255, 255/255, 0.6])\n",
    "        h, w = mask.shape[-2:]\n",
    "        mask_image = mask.reshape(h, w, 1) * color.reshape(1, 1, -1)\n",
    "        print(mask_image)\n",
    "        ax.imshow(mask_image)"
   ],
   "metadata": {
    "collapsed": false,
    "ExecuteTime": {
     "end_time": "2023-11-16T01:54:26.962178700Z",
     "start_time": "2023-11-16T01:54:26.957673500Z"
    }
   }
  },
  {
   "cell_type": "code",
   "execution_count": 3,
   "outputs": [],
   "source": [
    "image = \"pics/test.jpg\"\n",
    "text_prompt1 = \"train tracks.\"\n",
    "text_prompt2 = \"backgrounds.\"\n",
    "text_prompt3 = \"person.animal.\"\n",
    "len_prompts = 3"
   ],
   "metadata": {
    "collapsed": false,
    "ExecuteTime": {
     "end_time": "2023-11-16T01:54:26.973466900Z",
     "start_time": "2023-11-16T01:54:26.962178700Z"
    }
   }
  },
  {
   "cell_type": "code",
   "execution_count": null,
   "outputs": [
    {
     "name": "stdout",
     "output_type": "stream",
     "text": [
      "final text_encoder_type: bert-base-uncased\n"
     ]
    },
    {
     "name": "stderr",
     "output_type": "stream",
     "text": [
      "Some weights of the model checkpoint at bert-base-uncased were not used when initializing BertModel: ['cls.predictions.transform.LayerNorm.weight', 'cls.predictions.transform.dense.weight', 'cls.seq_relationship.bias', 'cls.predictions.transform.LayerNorm.bias', 'cls.predictions.bias', 'cls.seq_relationship.weight', 'cls.predictions.transform.dense.bias']\n",
      "- This IS expected if you are initializing BertModel from the checkpoint of a model trained on another task or with another architecture (e.g. initializing a BertForSequenceClassification model from a BertForPreTraining model).\n",
      "- This IS NOT expected if you are initializing BertModel from the checkpoint of a model that you expect to be exactly identical (initializing a BertForSequenceClassification model from a BertForSequenceClassification model).\n"
     ]
    },
    {
     "name": "stdout",
     "output_type": "stream",
     "text": [
      "Model loaded from /home/chenxu/.cache/huggingface/hub/models--ShilongLiu--GroundingDINO/snapshots/ckpt/groundingdino_swinb_cogcoor.pth \n",
      " => _IncompatibleKeys(missing_keys=[], unexpected_keys=['label_enc.weight'])\n",
      "['train tracks']\n",
      "(1,)\n"
     ]
    }
   ],
   "source": [
    "def main():\n",
    "    # Suppress warning messages\n",
    "    global boxes, masks, phrases, logits\n",
    "    try:\n",
    "        if image.startswith(\"http\"):\n",
    "            image_pil = download_image(image)\n",
    "        else:\n",
    "            image_pil = Image.open(image).convert(\"RGB\")\n",
    "\n",
    "        width, height = image_pil.size\n",
    "        model = LangSAM()\n",
    "\n",
    "\n",
    "        for i in range(1, len_prompts+1):\n",
    "            prompt = \"text_prompt\" + f\"{i}\"\n",
    "            text_prompt = globals()[prompt]\n",
    "            masksi, boxesi, phrasesi, logitsi = model.predict(image_pil, text_prompt)\n",
    "            print(phrasesi)\n",
    "            print(np.array(phrasesi).shape)\n",
    "            # print(boxesi.shape) # tensor\n",
    "            # # print(phrasesi.shape) # list\n",
    "            # print(logitsi.shape) # tensor\n",
    "            if len(masksi) == 0:\n",
    "                print(f\"No objects of the '{text_prompt}' prompt detected in the image.\")\n",
    "            else:\n",
    "                if i==1:\n",
    "                    masks = masksi\n",
    "                    boxes = boxesi\n",
    "                    phrases = phrasesi\n",
    "                    logits = logitsi\n",
    "                else:\n",
    "                    masks = torch.cat((masks, masksi), dim=0)\n",
    "                    boxes = torch.cat((boxes, boxesi), dim=0)\n",
    "                    logits = torch.cat((logits, logitsi), dim=0)\n",
    "                    phrases = phrases + phrasesi\n",
    "\n",
    "        # masks, boxes, phrases, logits = model.predict( image_pil, text_prompt3)\n",
    "\n",
    "        if len(masks) == 0:\n",
    "            text_prompt = text_prompt1 + text_prompt2 + text_prompt3\n",
    "            print(f\"No objects of the '{text_prompt}' prompt detected in the image.\")\n",
    "        else:\n",
    "            # Convert masks to numpy arrays\n",
    "            masks_np = [mask.squeeze().cpu().numpy() for mask in masks]\n",
    "            # Display the original image and masks side by side\n",
    "            # print(masks_np)\n",
    "            display_image_with_masks(image_pil, masks_np)\n",
    "            # ax = plt.gca()\n",
    "            # img = np.ones((width, height))\n",
    "            # img[:,:,3] = 0\n",
    "            # for i, maskp in enumerate(masks_np):\n",
    "            #     color_mask = np.concatenate([np.random.random(2), [0.35]])\n",
    "            #     img[maskp] = color_mask\n",
    "            # ax.imshow(img)\n",
    "\n",
    "            masksp= np.zeros((height, width), dtype=bool)\n",
    "            for _, maskp in enumerate(masks_np):\n",
    "                masksp = np.logical_or(masksp, maskp)\n",
    "            plt.imshow(image_pil)\n",
    "            plt.axis('off')\n",
    "            show_mask(masks_np, plt.gca())\n",
    "\n",
    "            # save masks\n",
    "            # name = split(text_prompt)\n",
    "            # output_path = os.path.join('New_results', name)\n",
    "            # os.mkdir(output_path)\n",
    "            # vis_mask_output_path = os.path.join(output_path, f'{name}.jpg')\n",
    "            # with open(vis_mask_output_path, 'wb') as outfile:\n",
    "            #     plt.savefig(outfile, format='jpg')\n",
    "\n",
    "            # Display the image with bounding boxes and confidence scores\n",
    "            display_image_with_boxes(image_pil, boxes, logits)\n",
    "\n",
    "            # # Save the masks\n",
    "            # for i, mask_np in enumerate(masks_np):\n",
    "            #     mask_path = f\"image_mask_{i+1}.png\"\n",
    "            #     # mask_path = f\"/data/chenxu/trail_projects/Personalize-SAM/New_data/Annotations/{text_prompt}/0{index}.png\"\n",
    "            #     save_mask(mask_np, mask_path)\n",
    "            #\n",
    "            # Print the bounding boxes, phrases, and logits\n",
    "            print_bounding_boxes(boxes)\n",
    "            print_detected_phrases(phrases)\n",
    "            print_logits(logits)\n",
    "\n",
    "    except (requests.exceptions.RequestException, IOError) as e:\n",
    "        print(f\"Error: {e}\")\n",
    "\n",
    "if __name__ == \"__main__\":\n",
    "    main()"
   ],
   "metadata": {
    "collapsed": false,
    "is_executing": true,
    "ExecuteTime": {
     "start_time": "2023-11-16T01:54:26.973466900Z"
    }
   }
  },
  {
   "cell_type": "code",
   "execution_count": null,
   "outputs": [],
   "source": [],
   "metadata": {
    "collapsed": false,
    "is_executing": true
   }
  }
 ],
 "metadata": {
  "kernelspec": {
   "display_name": "Python 3",
   "language": "python",
   "name": "python3"
  },
  "language_info": {
   "codemirror_mode": {
    "name": "ipython",
    "version": 2
   },
   "file_extension": ".py",
   "mimetype": "text/x-python",
   "name": "python",
   "nbconvert_exporter": "python",
   "pygments_lexer": "ipython2",
   "version": "2.7.6"
  }
 },
 "nbformat": 4,
 "nbformat_minor": 0
}
